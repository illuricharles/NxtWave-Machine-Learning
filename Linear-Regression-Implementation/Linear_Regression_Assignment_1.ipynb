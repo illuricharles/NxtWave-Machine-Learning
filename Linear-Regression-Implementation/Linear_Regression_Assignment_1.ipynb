{
  "nbformat": 4,
  "nbformat_minor": 0,
  "metadata": {
    "colab": {
      "name": "Linear Regression Assignment 1.ipynb",
      "provenance": [],
      "collapsed_sections": [],
      "toc_visible": true
    },
    "kernelspec": {
      "name": "python3",
      "display_name": "Python 3"
    }
  },
  "cells": [
    {
      "cell_type": "code",
      "metadata": {
        "id": "b66c32a3-5e86-491d-84e8-24fe9ae16506"
      },
      "source": [
        "import numpy as np"
      ],
      "execution_count": 1,
      "outputs": []
    },
    {
      "cell_type": "markdown",
      "metadata": {
        "id": "2296b675-8ac0-48fc-8c2a-1265137be50b"
      },
      "source": [
        "## Hypothesis Function For a Single Instance\n",
        "\n",
        "Implement the `compute_hypothesis_for_single_instance()` function, which computes the hypothesis value (linear regression) for an instance using vectorization.\n",
        "\n",
        "**Arguments:**\n",
        "\n",
        "* **`x`** : Feature values of an instance.\n",
        "  * A 2D numpy array of shape (num of features, 1)\n",
        "\n",
        "* **`theta`** : Parameters ($\\theta_0, \\theta_1,..,\\theta_n$)\n",
        "  * A 2D numpy array of shape (num of features + 1, 1)\n",
        "\n",
        "**Returns:**\n",
        "\n",
        "* Hypothesis value for the given instance\n",
        "<br>$\\hspace{20mm}h_{\\theta}(x)= \\theta^Tx$"
      ]
    },
    {
      "cell_type": "code",
      "metadata": {
        "id": "9ea98408-c4d4-4d30-87a4-55c6a0624cf5"
      },
      "source": [
        "def compute_hypothesis_for_single_instance(x, theta):\n",
        "  #ADD YOUR CODE HERE\n",
        "  x = np.insert(x,0,np.array([1]),axis = 0)\n",
        "  h = np.dot(np.transpose(theta), x)\n",
        "  if h.shape == (1,1):\n",
        "    return h[0,0]\n",
        "  return h"
      ],
      "execution_count": 89,
      "outputs": []
    },
    {
      "cell_type": "code",
      "metadata": {
        "id": "29f81834-926a-40ad-84ac-bee5937e17b2",
        "colab": {
          "base_uri": "https://localhost:8080/"
        },
        "outputId": "34bc5103-9650-4bb1-f776-93676c8ba189"
      },
      "source": [
        "# SAMPLE TEST CASE\n",
        "x = np.array([[5], [2.1], [7], [6.3]])\n",
        "theta = np.array([[0.1], [0.3], [-0.5], [-0.2], [0.4]])\n",
        "h = compute_hypothesis_for_single_instance(x, theta)\n",
        "print(np.round(h,3))\n"
      ],
      "execution_count": 90,
      "outputs": [
        {
          "output_type": "stream",
          "name": "stdout",
          "text": [
            "1.67\n"
          ]
        }
      ]
    },
    {
      "cell_type": "markdown",
      "metadata": {
        "id": "1670880c-72c7-452f-926c-9702a2ac607d"
      },
      "source": [
        "**Expected Output:**\n",
        "```\n",
        "1.67\n",
        "```"
      ]
    },
    {
      "cell_type": "markdown",
      "metadata": {
        "id": "01ed7313-820b-4f29-8655-4f3babc497b1"
      },
      "source": [
        "## Hypothesis Function For Multiple Instances\n",
        "\n",
        "Implement the `compute_hypothesis_for_multiple_instances()` function, which computes the hypothesis value (linear regression) for multiple instances using vectorization.\n",
        "\n",
        "**Arguments:**\n",
        "\n",
        "* **`X`** : Design Matrix (Feature values of multiple instances).\n",
        "  * A 2D numpy array of shape (num of instances, number of features)\n",
        "\n",
        "* **`theta`** : Parameters ($\\theta_0, \\theta_1,..,\\theta_n$)\n",
        "  * A 2D numpy array of shape (num of features + 1, 1)\n",
        "\n",
        "**Returns:**\n",
        "\n",
        "* Hypothesis value for each instance.\n",
        "  * A 2D numpy array of shape (num of instances, 1)\n",
        "<br><br>$\\hspace{20mm}h_{\\theta}(X)= X\\theta$"
      ]
    },
    {
      "cell_type": "code",
      "metadata": {
        "id": "cd4162f4-2e35-4342-9187-5c55ca427fa8"
      },
      "source": [
        "def compute_hypothesis_for_multiple_instances(X, theta):\n",
        "  #ADD YOUR CODE HERE\n",
        "  X= np.insert(X, 0, 1,axis=1)\n",
        "  h= np.dot(X,theta)\n",
        "  return h\n"
      ],
      "execution_count": 77,
      "outputs": []
    },
    {
      "cell_type": "code",
      "metadata": {
        "id": "aeeeba5c-a98a-4b03-bbd0-108c1f56129a",
        "colab": {
          "base_uri": "https://localhost:8080/"
        },
        "outputId": "1dfdc2a6-dcd7-4951-e090-2ad839509158"
      },
      "source": [
        "# SAMPLE TEST CASE\n",
        "X = np.array([[5, 2.4, 3.11], \n",
        "              [2.1, 4.6, 2.33], \n",
        "              [7, 9.21, 6.28], \n",
        "              [6.3, 6.12, 0.23]])\n",
        "\n",
        "theta = np.array([[0.1], [0.3], [1.2], [3.21]])\n",
        "H = compute_hypothesis_for_multiple_instances(X, theta)\n",
        "print(np.round(H,3))\n",
        "\n"
      ],
      "execution_count": 78,
      "outputs": [
        {
          "output_type": "stream",
          "name": "stdout",
          "text": [
            "[[14.463]\n",
            " [13.729]\n",
            " [33.411]\n",
            " [10.072]]\n"
          ]
        }
      ]
    },
    {
      "cell_type": "markdown",
      "metadata": {
        "id": "91fdf0ca-08b6-4ce3-b339-5410e3c84d25"
      },
      "source": [
        "**Expected Output:**\n",
        "```\n",
        "[[14.463]\n",
        " [13.729]\n",
        " [33.411]\n",
        " [10.072]]\n",
        "```"
      ]
    },
    {
      "cell_type": "markdown",
      "metadata": {
        "id": "fdef7fa2-30b4-48ea-a040-3e2ee88283c4"
      },
      "source": [
        "## Cost Function in Linear Regression\n",
        "Implement the `compute_cost()` function, which computes the cost (MSE in linear regression) using vectorization.\n",
        "\n",
        "**Arguments:**\n",
        "\n",
        "* **`X`** : Design Matrix.\n",
        "  * A 2D numpy array of shape (num of instances, num of features)\n",
        "\n",
        "* **`Y`** : True values corresponding to each training instance in $X$.\n",
        "  * A 2D numpy array of shape (num of instances, 1)\n",
        "\n",
        "* **`theta`** : Parameters ($\\theta_0, \\theta_1,..,\\theta_n$)\n",
        "  * A 2D numpy array of shape (num of features + 1, 1)\n",
        "\n",
        "**Returns:**\n",
        "\n",
        "* Cost value with the given parameters and data\n",
        "<br><br>$\\hspace{20mm}J(\\theta) = \\frac{1}{2m}(X\\theta - Y)^T(X\\theta-Y)$\n"
      ]
    },
    {
      "cell_type": "code",
      "metadata": {
        "id": "aadac85f-151e-46a9-b546-6ac02df62880"
      },
      "source": [
        "def compute_cost(X, Y, theta):\n",
        "  #ADD YOUR CODE HERE\n",
        "  L = compute_hypothesis_for_multiple_instances(X,theta) - Y\n",
        "  s = X.shape\n",
        "  m = s[0]\n",
        "  J = np.dot(np.transpose(L), L)/(2*m)\n",
        "  if J.shape == (1,1):\n",
        "    return J[0,0]\n",
        "\n",
        "  return J \n"
      ],
      "execution_count": 91,
      "outputs": []
    },
    {
      "cell_type": "code",
      "metadata": {
        "id": "1061727c-4cfd-4f72-91ef-a7cdc4d4de49",
        "colab": {
          "base_uri": "https://localhost:8080/"
        },
        "outputId": "c05e45ea-a238-465d-c8ea-466d4eee4e56"
      },
      "source": [
        "# SAMPLE TEST CASE\n",
        "X = np.array([[5.1, 2, 7, 6],\n",
        "             [6, 1, 0, 4]])\n",
        "Y = np.array([[2.1], [3]])\n",
        "theta = np.array([[0.1], [0.3], [-0.5], [-0.2], [0.4]])\n",
        "print(np.round(compute_cost(X, Y, theta),3))\n",
        "# print(compute_hypothesis_for_multiple_instances(X, theta))\n",
        "# np.dot(np.transpose(compute_hypothesis_for_multiple_instances(X, theta) - Y), compute_hypothesis_for_multiple_instances(X, theta) - Y)/4\n",
        "# X.shape"
      ],
      "execution_count": 92,
      "outputs": [
        {
          "output_type": "stream",
          "name": "stdout",
          "text": [
            "0.055\n"
          ]
        }
      ]
    },
    {
      "cell_type": "markdown",
      "metadata": {
        "id": "011b298b-078e-4265-82dd-9c9fea60d718"
      },
      "source": [
        "**Expected Output:**\n",
        "```\n",
        "0.055\n",
        "```"
      ]
    },
    {
      "cell_type": "markdown",
      "metadata": {
        "id": "9c3ba461-c240-492b-9e6f-6802fe9715ca"
      },
      "source": [
        "## Gradient of Cost Function in Linear Regression\n",
        "\n",
        "Implement the `compute_gradient_of_cost_function()` function which computes the gradient of the cost function using vectorization.\n",
        "\n",
        "**Arguments:**\n",
        "\n",
        "* **`X`** : Design Matrix.\n",
        "  * A 2D numpy array of shape (num of instances, num of features)\n",
        "\n",
        "* **`Y`** : True values corresponding to each training instance in $X$.\n",
        "  * A 2D numpy array of shape (num of instances, 1)\n",
        "\n",
        "* **`theta`** : Parameters ($\\theta_0, \\theta_1,..,\\theta_n$)\n",
        "  * A 2D numpy array of shape (num of features + 1, 1)\n",
        "\n",
        "**Returns:**\n",
        "\n",
        "* Gradient of the cost function corresponding to each feature.\n",
        "  * A 2D numpy array of shape (num of features + 1, 1).\n",
        "<br><br>$\\hspace{20mm}{d J \\over d \\theta} = \\frac{1}{m}X^T(X\\theta - Y)$\n"
      ]
    },
    {
      "cell_type": "code",
      "metadata": {
        "id": "1bcecb45-7014-4bd6-8c85-27ca724e17ec"
      },
      "source": [
        "def compute_gradient_of_cost_function(X, Y, theta):\n",
        "  #ADD YOUR CODE HERE\n",
        "  L = compute_hypothesis_for_multiple_instances(X, theta) - Y\n",
        "  s = X.shape\n",
        "  m = s[0]\n",
        "  X = np.insert(X,0,1,axis=1)\n",
        "  return np.dot(np.transpose(X), L)/m"
      ],
      "execution_count": 93,
      "outputs": []
    },
    {
      "cell_type": "code",
      "metadata": {
        "id": "199f1a6a-3fd0-463f-9f3e-147ec3091f73",
        "colab": {
          "base_uri": "https://localhost:8080/"
        },
        "outputId": "7a22879d-252f-4622-e6c7-5e9c9ce87b2a"
      },
      "source": [
        "# SAMPLE TEST CASE\n",
        "X = np.array([[5, 2, 7, 6],\n",
        "             [6, 1, 0, 4]])\n",
        "Y = np.array([[2], [3]])\n",
        "theta = np.array([[0.1], [0.3], [-0.5], [-0.2], [0.4]])\n",
        "gradients = compute_gradient_of_cost_function(X, Y, theta)\n",
        "print(np.round(gradients,3))\n",
        "# np.dot(np.transpose(X), compute_hypothesis_for_multiple_instances(X, theta) -Y)/m\n"
      ],
      "execution_count": 94,
      "outputs": [
        {
          "output_type": "stream",
          "name": "stdout",
          "text": [
            "[[-0.2]\n",
            " [-1. ]\n",
            " [-0.4]\n",
            " [-1.4]\n",
            " [-1.2]]\n"
          ]
        }
      ]
    },
    {
      "cell_type": "markdown",
      "metadata": {
        "id": "1c0d36b2-d745-4f00-b43a-dc9f08594ef5"
      },
      "source": [
        "**Expected Output:**\n",
        "```\n",
        "[[-0.2]\n",
        " [-1. ]\n",
        " [-0.4]\n",
        " [-1.4]\n",
        " [-1.2]]\n",
        "\n",
        "```"
      ]
    }
  ]
}