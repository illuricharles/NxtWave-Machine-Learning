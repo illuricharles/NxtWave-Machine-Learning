{
  "nbformat": 4,
  "nbformat_minor": 0,
  "metadata": {
    "colab": {
      "name": "Linear Regression - House Price Prediction",
      "provenance": [],
      "collapsed_sections": [],
      "toc_visible": true
    },
    "kernelspec": {
      "name": "python3",
      "display_name": "Python 3"
    },
    "language_info": {
      "name": "python"
    }
  },
  "cells": [
    {
      "cell_type": "markdown",
      "source": [
        "# Importing Packages"
      ],
      "metadata": {
        "id": "JMNIFD_1BQ57"
      }
    },
    {
      "cell_type": "code",
      "execution_count": 77,
      "metadata": {
        "id": "pIUAspT__ZN8"
      },
      "outputs": [],
      "source": [
        "import numpy as np\n",
        "import pandas as pd\n",
        "import matplotlib.pyplot as plt\n",
        "import seaborn as sns"
      ]
    },
    {
      "cell_type": "markdown",
      "source": [
        "# Download the house price dataset"
      ],
      "metadata": {
        "id": "04nmVeP7BkGJ"
      }
    },
    {
      "cell_type": "code",
      "source": [
        "!wget https://nkb-backend-otg-media-static.s3.ap-south-1.amazonaws.com/otg_prod/media/Tech_4.0/AI_ML/Datasets/house_price_prediction.csv"
      ],
      "metadata": {
        "colab": {
          "base_uri": "https://localhost:8080/"
        },
        "id": "xdXp_SwuBit0",
        "outputId": "83ce6df8-b3e3-4861-84a2-0a46bb9ec231"
      },
      "execution_count": 78,
      "outputs": [
        {
          "output_type": "stream",
          "name": "stdout",
          "text": [
            "--2022-08-28 16:13:09--  https://nkb-backend-otg-media-static.s3.ap-south-1.amazonaws.com/otg_prod/media/Tech_4.0/AI_ML/Datasets/house_price_prediction.csv\n",
            "Resolving nkb-backend-otg-media-static.s3.ap-south-1.amazonaws.com (nkb-backend-otg-media-static.s3.ap-south-1.amazonaws.com)... 52.219.158.54\n",
            "Connecting to nkb-backend-otg-media-static.s3.ap-south-1.amazonaws.com (nkb-backend-otg-media-static.s3.ap-south-1.amazonaws.com)|52.219.158.54|:443... connected.\n",
            "HTTP request sent, awaiting response... 200 OK\n",
            "Length: 319132 (312K) [text/csv]\n",
            "Saving to: ‘house_price_prediction.csv.2’\n",
            "\n",
            "house_price_predict 100%[===================>] 311.65K   361KB/s    in 0.9s    \n",
            "\n",
            "2022-08-28 16:13:10 (361 KB/s) - ‘house_price_prediction.csv.2’ saved [319132/319132]\n",
            "\n"
          ]
        }
      ]
    },
    {
      "cell_type": "code",
      "source": [
        "df = pd.read_csv('house_price_prediction.csv')\n",
        "df"
      ],
      "metadata": {
        "colab": {
          "base_uri": "https://localhost:8080/",
          "height": 424
        },
        "id": "oy1-qZXdB_fx",
        "outputId": "c17abbe8-3b3c-4ae1-ffde-361a2b8b132d"
      },
      "execution_count": 79,
      "outputs": [
        {
          "output_type": "execute_result",
          "data": {
            "text/plain": [
              "      Avg. Area Income  House Age  Number of Rooms  Number of Bedrooms  \\\n",
              "0         79248.642455       6.00              6.0                 3.0   \n",
              "1         61287.067179       5.87              8.0                 5.0   \n",
              "2         61287.067179       5.87              8.0                 5.0   \n",
              "3         63345.240046       7.19              5.0                 3.0   \n",
              "4         59982.197226       5.04              7.0                 4.0   \n",
              "...                ...        ...              ...                 ...   \n",
              "4998      60567.944140       7.83              6.0                 3.0   \n",
              "4999      78491.275435       7.00              6.0                 4.0   \n",
              "5000      63390.686886       7.25              4.0                 2.0   \n",
              "5001      68001.331235       5.53              7.0                 5.0   \n",
              "5002      65510.581804       5.99              6.0                 4.0   \n",
              "\n",
              "      Area Population         Price  \n",
              "0        40173.072174  1.505891e+06  \n",
              "1        36882.159400  1.058988e+06  \n",
              "2        36882.159400  1.058988e+06  \n",
              "3        34310.242831  1.260617e+06  \n",
              "4        26354.109472  6.309435e+05  \n",
              "...               ...           ...  \n",
              "4998     22837.361035  1.060194e+06  \n",
              "4999     25616.115489  1.482618e+06  \n",
              "5000     33266.145490  1.030730e+06  \n",
              "5001     42625.620156  1.198657e+06  \n",
              "5002     46501.283803  1.298950e+06  \n",
              "\n",
              "[5003 rows x 6 columns]"
            ],
            "text/html": [
              "\n",
              "  <div id=\"df-8f80f52b-e08e-4ac1-9515-7c218a3462ed\">\n",
              "    <div class=\"colab-df-container\">\n",
              "      <div>\n",
              "<style scoped>\n",
              "    .dataframe tbody tr th:only-of-type {\n",
              "        vertical-align: middle;\n",
              "    }\n",
              "\n",
              "    .dataframe tbody tr th {\n",
              "        vertical-align: top;\n",
              "    }\n",
              "\n",
              "    .dataframe thead th {\n",
              "        text-align: right;\n",
              "    }\n",
              "</style>\n",
              "<table border=\"1\" class=\"dataframe\">\n",
              "  <thead>\n",
              "    <tr style=\"text-align: right;\">\n",
              "      <th></th>\n",
              "      <th>Avg. Area Income</th>\n",
              "      <th>House Age</th>\n",
              "      <th>Number of Rooms</th>\n",
              "      <th>Number of Bedrooms</th>\n",
              "      <th>Area Population</th>\n",
              "      <th>Price</th>\n",
              "    </tr>\n",
              "  </thead>\n",
              "  <tbody>\n",
              "    <tr>\n",
              "      <th>0</th>\n",
              "      <td>79248.642455</td>\n",
              "      <td>6.00</td>\n",
              "      <td>6.0</td>\n",
              "      <td>3.0</td>\n",
              "      <td>40173.072174</td>\n",
              "      <td>1.505891e+06</td>\n",
              "    </tr>\n",
              "    <tr>\n",
              "      <th>1</th>\n",
              "      <td>61287.067179</td>\n",
              "      <td>5.87</td>\n",
              "      <td>8.0</td>\n",
              "      <td>5.0</td>\n",
              "      <td>36882.159400</td>\n",
              "      <td>1.058988e+06</td>\n",
              "    </tr>\n",
              "    <tr>\n",
              "      <th>2</th>\n",
              "      <td>61287.067179</td>\n",
              "      <td>5.87</td>\n",
              "      <td>8.0</td>\n",
              "      <td>5.0</td>\n",
              "      <td>36882.159400</td>\n",
              "      <td>1.058988e+06</td>\n",
              "    </tr>\n",
              "    <tr>\n",
              "      <th>3</th>\n",
              "      <td>63345.240046</td>\n",
              "      <td>7.19</td>\n",
              "      <td>5.0</td>\n",
              "      <td>3.0</td>\n",
              "      <td>34310.242831</td>\n",
              "      <td>1.260617e+06</td>\n",
              "    </tr>\n",
              "    <tr>\n",
              "      <th>4</th>\n",
              "      <td>59982.197226</td>\n",
              "      <td>5.04</td>\n",
              "      <td>7.0</td>\n",
              "      <td>4.0</td>\n",
              "      <td>26354.109472</td>\n",
              "      <td>6.309435e+05</td>\n",
              "    </tr>\n",
              "    <tr>\n",
              "      <th>...</th>\n",
              "      <td>...</td>\n",
              "      <td>...</td>\n",
              "      <td>...</td>\n",
              "      <td>...</td>\n",
              "      <td>...</td>\n",
              "      <td>...</td>\n",
              "    </tr>\n",
              "    <tr>\n",
              "      <th>4998</th>\n",
              "      <td>60567.944140</td>\n",
              "      <td>7.83</td>\n",
              "      <td>6.0</td>\n",
              "      <td>3.0</td>\n",
              "      <td>22837.361035</td>\n",
              "      <td>1.060194e+06</td>\n",
              "    </tr>\n",
              "    <tr>\n",
              "      <th>4999</th>\n",
              "      <td>78491.275435</td>\n",
              "      <td>7.00</td>\n",
              "      <td>6.0</td>\n",
              "      <td>4.0</td>\n",
              "      <td>25616.115489</td>\n",
              "      <td>1.482618e+06</td>\n",
              "    </tr>\n",
              "    <tr>\n",
              "      <th>5000</th>\n",
              "      <td>63390.686886</td>\n",
              "      <td>7.25</td>\n",
              "      <td>4.0</td>\n",
              "      <td>2.0</td>\n",
              "      <td>33266.145490</td>\n",
              "      <td>1.030730e+06</td>\n",
              "    </tr>\n",
              "    <tr>\n",
              "      <th>5001</th>\n",
              "      <td>68001.331235</td>\n",
              "      <td>5.53</td>\n",
              "      <td>7.0</td>\n",
              "      <td>5.0</td>\n",
              "      <td>42625.620156</td>\n",
              "      <td>1.198657e+06</td>\n",
              "    </tr>\n",
              "    <tr>\n",
              "      <th>5002</th>\n",
              "      <td>65510.581804</td>\n",
              "      <td>5.99</td>\n",
              "      <td>6.0</td>\n",
              "      <td>4.0</td>\n",
              "      <td>46501.283803</td>\n",
              "      <td>1.298950e+06</td>\n",
              "    </tr>\n",
              "  </tbody>\n",
              "</table>\n",
              "<p>5003 rows × 6 columns</p>\n",
              "</div>\n",
              "      <button class=\"colab-df-convert\" onclick=\"convertToInteractive('df-8f80f52b-e08e-4ac1-9515-7c218a3462ed')\"\n",
              "              title=\"Convert this dataframe to an interactive table.\"\n",
              "              style=\"display:none;\">\n",
              "        \n",
              "  <svg xmlns=\"http://www.w3.org/2000/svg\" height=\"24px\"viewBox=\"0 0 24 24\"\n",
              "       width=\"24px\">\n",
              "    <path d=\"M0 0h24v24H0V0z\" fill=\"none\"/>\n",
              "    <path d=\"M18.56 5.44l.94 2.06.94-2.06 2.06-.94-2.06-.94-.94-2.06-.94 2.06-2.06.94zm-11 1L8.5 8.5l.94-2.06 2.06-.94-2.06-.94L8.5 2.5l-.94 2.06-2.06.94zm10 10l.94 2.06.94-2.06 2.06-.94-2.06-.94-.94-2.06-.94 2.06-2.06.94z\"/><path d=\"M17.41 7.96l-1.37-1.37c-.4-.4-.92-.59-1.43-.59-.52 0-1.04.2-1.43.59L10.3 9.45l-7.72 7.72c-.78.78-.78 2.05 0 2.83L4 21.41c.39.39.9.59 1.41.59.51 0 1.02-.2 1.41-.59l7.78-7.78 2.81-2.81c.8-.78.8-2.07 0-2.86zM5.41 20L4 18.59l7.72-7.72 1.47 1.35L5.41 20z\"/>\n",
              "  </svg>\n",
              "      </button>\n",
              "      \n",
              "  <style>\n",
              "    .colab-df-container {\n",
              "      display:flex;\n",
              "      flex-wrap:wrap;\n",
              "      gap: 12px;\n",
              "    }\n",
              "\n",
              "    .colab-df-convert {\n",
              "      background-color: #E8F0FE;\n",
              "      border: none;\n",
              "      border-radius: 50%;\n",
              "      cursor: pointer;\n",
              "      display: none;\n",
              "      fill: #1967D2;\n",
              "      height: 32px;\n",
              "      padding: 0 0 0 0;\n",
              "      width: 32px;\n",
              "    }\n",
              "\n",
              "    .colab-df-convert:hover {\n",
              "      background-color: #E2EBFA;\n",
              "      box-shadow: 0px 1px 2px rgba(60, 64, 67, 0.3), 0px 1px 3px 1px rgba(60, 64, 67, 0.15);\n",
              "      fill: #174EA6;\n",
              "    }\n",
              "\n",
              "    [theme=dark] .colab-df-convert {\n",
              "      background-color: #3B4455;\n",
              "      fill: #D2E3FC;\n",
              "    }\n",
              "\n",
              "    [theme=dark] .colab-df-convert:hover {\n",
              "      background-color: #434B5C;\n",
              "      box-shadow: 0px 1px 3px 1px rgba(0, 0, 0, 0.15);\n",
              "      filter: drop-shadow(0px 1px 2px rgba(0, 0, 0, 0.3));\n",
              "      fill: #FFFFFF;\n",
              "    }\n",
              "  </style>\n",
              "\n",
              "      <script>\n",
              "        const buttonEl =\n",
              "          document.querySelector('#df-8f80f52b-e08e-4ac1-9515-7c218a3462ed button.colab-df-convert');\n",
              "        buttonEl.style.display =\n",
              "          google.colab.kernel.accessAllowed ? 'block' : 'none';\n",
              "\n",
              "        async function convertToInteractive(key) {\n",
              "          const element = document.querySelector('#df-8f80f52b-e08e-4ac1-9515-7c218a3462ed');\n",
              "          const dataTable =\n",
              "            await google.colab.kernel.invokeFunction('convertToInteractive',\n",
              "                                                     [key], {});\n",
              "          if (!dataTable) return;\n",
              "\n",
              "          const docLinkHtml = 'Like what you see? Visit the ' +\n",
              "            '<a target=\"_blank\" href=https://colab.research.google.com/notebooks/data_table.ipynb>data table notebook</a>'\n",
              "            + ' to learn more about interactive tables.';\n",
              "          element.innerHTML = '';\n",
              "          dataTable['output_type'] = 'display_data';\n",
              "          await google.colab.output.renderOutput(dataTable, element);\n",
              "          const docLink = document.createElement('div');\n",
              "          docLink.innerHTML = docLinkHtml;\n",
              "          element.appendChild(docLink);\n",
              "        }\n",
              "      </script>\n",
              "    </div>\n",
              "  </div>\n",
              "  "
            ]
          },
          "metadata": {},
          "execution_count": 79
        }
      ]
    },
    {
      "cell_type": "markdown",
      "source": [
        "# Data Preporcessing"
      ],
      "metadata": {
        "id": "EK83RJoGBtiG"
      }
    },
    {
      "cell_type": "markdown",
      "source": [
        "## Handling NaN values"
      ],
      "metadata": {
        "id": "ZKhKjuV0BxrP"
      }
    },
    {
      "cell_type": "code",
      "source": [
        "df.isna().sum()"
      ],
      "metadata": {
        "colab": {
          "base_uri": "https://localhost:8080/"
        },
        "id": "UZrWsONLBsfn",
        "outputId": "9a653e2b-0452-4b0a-b4cd-8e45a3d75beb"
      },
      "execution_count": 80,
      "outputs": [
        {
          "output_type": "execute_result",
          "data": {
            "text/plain": [
              "Avg. Area Income      0\n",
              "House Age             1\n",
              "Number of Rooms       1\n",
              "Number of Bedrooms    1\n",
              "Area Population       1\n",
              "Price                 2\n",
              "dtype: int64"
            ]
          },
          "metadata": {},
          "execution_count": 80
        }
      ]
    },
    {
      "cell_type": "code",
      "source": [
        "df.dropna(inplace=True)"
      ],
      "metadata": {
        "id": "5jbefnalB4Pj"
      },
      "execution_count": 81,
      "outputs": []
    },
    {
      "cell_type": "markdown",
      "source": [
        "## Handling Duplicates"
      ],
      "metadata": {
        "id": "OsEUn76CMhVr"
      }
    },
    {
      "cell_type": "code",
      "source": [
        "df.duplicated().sum()"
      ],
      "metadata": {
        "colab": {
          "base_uri": "https://localhost:8080/"
        },
        "id": "p11xaPi5CHd3",
        "outputId": "6ceaf727-ec41-4db6-fdba-aec50aeef444"
      },
      "execution_count": 82,
      "outputs": [
        {
          "output_type": "execute_result",
          "data": {
            "text/plain": [
              "3"
            ]
          },
          "metadata": {},
          "execution_count": 82
        }
      ]
    },
    {
      "cell_type": "code",
      "source": [
        "df.drop_duplicates(inplace=True)"
      ],
      "metadata": {
        "id": "ApZ3wtyXCLm3"
      },
      "execution_count": 83,
      "outputs": []
    },
    {
      "cell_type": "markdown",
      "source": [
        "## Handling Outliners"
      ],
      "metadata": {
        "id": "RHfWUQ2BMr3S"
      }
    },
    {
      "cell_type": "code",
      "source": [
        "df.boxplot(column='Price')"
      ],
      "metadata": {
        "colab": {
          "base_uri": "https://localhost:8080/",
          "height": 293
        },
        "id": "fyzviGufCZz0",
        "outputId": "b8907c6c-4657-451d-bf1e-058e4aa95ef9"
      },
      "execution_count": 84,
      "outputs": [
        {
          "output_type": "execute_result",
          "data": {
            "text/plain": [
              "<matplotlib.axes._subplots.AxesSubplot at 0x7f08ac39db10>"
            ]
          },
          "metadata": {},
          "execution_count": 84
        },
        {
          "output_type": "display_data",
          "data": {
            "text/plain": [
              "<Figure size 432x288 with 1 Axes>"
            ],
            "image/png": "[encoded data removed]"
          },
          "metadata": {
            "needs_background": "light"
          }
        }
      ]
    },
    {
      "cell_type": "code",
      "source": [
        "df = df.loc[(df['Price'] <3000000) & (df['Price'] > 5)]"
      ],
      "metadata": {
        "id": "kE5M5-VKCdS0"
      },
      "execution_count": 85,
      "outputs": []
    },
    {
      "cell_type": "code",
      "source": [
        "housing_price = df.to_numpy()"
      ],
      "metadata": {
        "id": "wfuFbz1FC2zF"
      },
      "execution_count": 86,
      "outputs": []
    },
    {
      "cell_type": "code",
      "source": [
        "housing_price"
      ],
      "metadata": {
        "colab": {
          "base_uri": "https://localhost:8080/"
        },
        "id": "mD579KEVDE0U",
        "outputId": "e1e159a0-318d-4860-a50e-7446b017cdab"
      },
      "execution_count": 87,
      "outputs": [
        {
          "output_type": "execute_result",
          "data": {
            "text/plain": [
              "array([[7.92486425e+04, 6.00000000e+00, 6.00000000e+00, 3.00000000e+00,\n",
              "        4.01730722e+04, 1.50589091e+06],\n",
              "       [6.12870672e+04, 5.87000000e+00, 8.00000000e+00, 5.00000000e+00,\n",
              "        3.68821594e+04, 1.05898799e+06],\n",
              "       [6.33452400e+04, 7.19000000e+00, 5.00000000e+00, 3.00000000e+00,\n",
              "        3.43102428e+04, 1.26061681e+06],\n",
              "       ...,\n",
              "       [6.33906869e+04, 7.25000000e+00, 4.00000000e+00, 2.00000000e+00,\n",
              "        3.32661455e+04, 1.03072958e+06],\n",
              "       [6.80013312e+04, 5.53000000e+00, 7.00000000e+00, 5.00000000e+00,\n",
              "        4.26256202e+04, 1.19865687e+06],\n",
              "       [6.55105818e+04, 5.99000000e+00, 6.00000000e+00, 4.00000000e+00,\n",
              "        4.65012838e+04, 1.29895048e+06]])"
            ]
          },
          "metadata": {},
          "execution_count": 87
        }
      ]
    },
    {
      "cell_type": "markdown",
      "source": [
        "# Gradient Descent"
      ],
      "metadata": {
        "id": "sft4EcemDUqS"
      }
    },
    {
      "cell_type": "markdown",
      "source": [
        "## Compute cost function"
      ],
      "metadata": {
        "id": "zV6DqL2eMzuZ"
      }
    },
    {
      "cell_type": "code",
      "source": [
        "def compute_cost_function(X, Y, theta):\n",
        "  X = np.insert(X, 0, 1, axis = 1)\n",
        "  H = np.dot(X, theta)\n",
        "  difference = H - Y\n",
        "  m = len(X)\n",
        "  J = (1/(2*m)) * np.dot(difference.T, difference)\n",
        "  return np.squeeze(J)"
      ],
      "metadata": {
        "id": "-mJLXgl-DTWI"
      },
      "execution_count": 88,
      "outputs": []
    },
    {
      "cell_type": "markdown",
      "source": [
        "## Gradient Descent Function"
      ],
      "metadata": {
        "id": "RX7q-5_lM4KA"
      }
    },
    {
      "cell_type": "code",
      "source": [
        "def gradient_descent_cost_function(X, Y, theta):\n",
        "  X = np.insert(X, 0, 1, axis = 1)\n",
        "  H = np.dot(X, theta)\n",
        "  difference = H - Y\n",
        "  m = len(X)\n",
        "  d_theta = (1/m) * (np.dot(X.T, difference))\n",
        "  return d_theta \n",
        "\n",
        "#using fixed number of iterations\n",
        "def gradient_descent_iterations(X, Y, theta, iterations, learning_rate):\n",
        "  costs = [compute_cost_function(X, Y, theta)]\n",
        "  thetas = [theta]\n",
        "\n",
        "  for i in range(iterations):\n",
        "    d_theta = gradient_descent_cost_function(X, Y, theta)\n",
        "    theta = theta - (learning_rate * d_theta)\n",
        "    costs.append(compute_cost_function(X, Y, theta))\n",
        "    thetas.append(theta)\n",
        "  return thetas, costs\n",
        "  \n",
        "# using gradient descent based on cost difference\n",
        "def gradient_descent_cost_threshold(X, Y, theta, cost_diff_threshold, learning_rate):\n",
        "  i = 0\n",
        "  costs = [compute_cost_function(X, Y, theta)]\n",
        "  thetas = [theta]\n",
        "\n",
        "  cost_diff = cost_diff_threshold + 1\n",
        "\n",
        "  while(abs(cost_diff) > cost_diff_threshold):\n",
        "    d_theta = gradient_descent_cost_function(X, Y, theta) \n",
        "    theta = theta - (learning_rate * d_theta)\n",
        "    costs.append(compute_cost_function(X, Y, theta))\n",
        "    thetas.append(theta)\n",
        "    cost_diff = costs[i+1] - costs[i]\n",
        "    if cost_diff > 0:\n",
        "      print('Divergent case')\n",
        "      break\n",
        "    i = i+1 \n",
        "  return thetas, costs\n",
        " "
      ],
      "metadata": {
        "id": "di5BEmX1E3Vb"
      },
      "execution_count": 89,
      "outputs": []
    },
    {
      "cell_type": "markdown",
      "source": [
        "## Ploting cost vs iterations"
      ],
      "metadata": {
        "id": "TzrFMKr3NJMY"
      }
    },
    {
      "cell_type": "code",
      "source": [
        "def plot_cost_vs_iterations(x, y, theta, costs, cost):\n",
        "    fig = plt.figure()\n",
        "    plt.plot(range(len(costs)), costs, c='r', alpha=0.8)\n",
        "    plt.annotate(f'Cost : {cost}', xy = (0.2, 0.6), xycoords='axes fraction',color='#3c78d8ff', fontsize=12)\n",
        "    plt.xlabel('iterations')\n",
        "    plt.ylabel('cost')\n",
        "    plt.show()"
      ],
      "metadata": {
        "id": "0VA-eNdYNfyB"
      },
      "execution_count": 90,
      "outputs": []
    },
    {
      "cell_type": "markdown",
      "source": [
        "## Mean Square Error"
      ],
      "metadata": {
        "id": "9RvS2nZ6NU51"
      }
    },
    {
      "cell_type": "code",
      "source": [
        "def mse(predicted_y, actual_y):\n",
        "  difference = predicted_y - actual_y\n",
        "  m = len(predicted_y)\n",
        "  J = (1/m) * (np.dot(difference.T, difference))\n",
        "  return np.squeeze(J)"
      ],
      "metadata": {
        "id": "YioO9B3Mgr1w"
      },
      "execution_count": 91,
      "outputs": []
    },
    {
      "cell_type": "markdown",
      "source": [
        "## Preparing the data"
      ],
      "metadata": {
        "id": "up3sLQf2KFuk"
      }
    },
    {
      "cell_type": "code",
      "source": [
        "def preparing_data(shuffle_data):\n",
        "  x = shuffle_data[:,:-1]\n",
        "  y = shuffle_data[:,-1]\n",
        "  y = y.reshape(-1,1)\n",
        "  return x, y"
      ],
      "metadata": {
        "id": "rM_tOhFmItSB"
      },
      "execution_count": 92,
      "outputs": []
    },
    {
      "cell_type": "markdown",
      "source": [
        "## Scaling Features\n",
        "<p> Use Standardize formula to reduce the values to minimum and to obtain the result quickly</p>"
      ],
      "metadata": {
        "id": "b2Xit2DqQNho"
      }
    },
    {
      "cell_type": "markdown",
      "source": [
        "### Standardize"
      ],
      "metadata": {
        "id": "hUYMNUnoSESl"
      }
    },
    {
      "cell_type": "code",
      "source": [
        "def standardize(arr, arr_mean=None, arr_std = None):\n",
        "  arr_mean = (np.mean(arr, axis=0)) if(arr_mean is None) else (arr_mean) \n",
        "  arr_std = (np.std(arr, axis = 0)) if(arr_std is None) else (arr_std) \n",
        "\n",
        "  arr_scaled = (arr-arr_mean)/arr_std\n",
        "  return arr_scaled, arr_mean, arr_std"
      ],
      "metadata": {
        "id": "j4FyOTNbQSoD"
      },
      "execution_count": 93,
      "outputs": []
    },
    {
      "cell_type": "markdown",
      "source": [
        "### Destandardize"
      ],
      "metadata": {
        "id": "JRsXLy6ASHul"
      }
    },
    {
      "cell_type": "code",
      "source": [
        "def destandardize(arr_scaled, arr_mean, arr_std):\n",
        "  non_scaled = (arr_scaled*arr_std) + arr_mean\n",
        "  return non_scaled"
      ],
      "metadata": {
        "id": "xsPTNMe1SVrU"
      },
      "execution_count": 94,
      "outputs": []
    },
    {
      "cell_type": "markdown",
      "source": [
        "# Apply Gradient Descent"
      ],
      "metadata": {
        "id": "_RRS2d-JH2qt"
      }
    },
    {
      "cell_type": "markdown",
      "source": [
        "## Data Preparation"
      ],
      "metadata": {
        "id": "r3PzJ4vCNnU-"
      }
    },
    {
      "cell_type": "code",
      "source": [
        "np.random.seed(11235811)\n",
        "data_count = housing_price.shape[0]\n",
        "permutated_index = np.random.permutation(data_count)\n",
        "shuffle_data = housing_price[permutated_index]"
      ],
      "metadata": {
        "id": "DNvKRlSsHJZa"
      },
      "execution_count": 95,
      "outputs": []
    },
    {
      "cell_type": "code",
      "source": [
        "print(housing_price.shape, shuffle_data.shape)"
      ],
      "metadata": {
        "colab": {
          "base_uri": "https://localhost:8080/"
        },
        "id": "oGOtQ4LcICNY",
        "outputId": "0dc34497-07c4-40f4-dd24-da9c795f4825"
      },
      "execution_count": 96,
      "outputs": [
        {
          "output_type": "stream",
          "name": "stdout",
          "text": [
            "(4990, 6) (4990, 6)\n"
          ]
        }
      ]
    },
    {
      "cell_type": "code",
      "source": [
        "train_ratio = 0.8\n",
        "test_ratio = 0.2\n",
        "\n",
        "train_count = np.int(train_ratio * data_count)\n",
        "\n",
        "train_set = shuffle_data[:train_count,:]\n",
        "test_set = shuffle_data [train_count:, :]\n"
      ],
      "metadata": {
        "colab": {
          "base_uri": "https://localhost:8080/"
        },
        "id": "D5TZwz11JXB3",
        "outputId": "22adfa01-a630-43f5-8d68-558788495ed8"
      },
      "execution_count": 97,
      "outputs": [
        {
          "output_type": "stream",
          "name": "stderr",
          "text": [
            "/usr/local/lib/python3.7/dist-packages/ipykernel_launcher.py:4: DeprecationWarning: `np.int` is a deprecated alias for the builtin `int`. To silence this warning, use `int` by itself. Doing this will not modify any behavior and is safe. When replacing `np.int`, you may wish to use e.g. `np.int64` or `np.int32` to specify the precision. If you wish to review your current use, check the release note link for additional information.\n",
            "Deprecated in NumPy 1.20; for more details and guidance: https://numpy.org/devdocs/release/1.20.0-notes.html#deprecations\n",
            "  after removing the cwd from sys.path.\n"
          ]
        }
      ]
    },
    {
      "cell_type": "code",
      "source": [
        "train_x, train_y = preparing_data(train_set)\n",
        "test_x, test_y = preparing_data(test_set)"
      ],
      "metadata": {
        "id": "EE_ivAewKNPT"
      },
      "execution_count": 98,
      "outputs": []
    },
    {
      "cell_type": "code",
      "source": [
        "print(train_x.shape, train_y.shape, test_x.shape, test_y.shape)"
      ],
      "metadata": {
        "colab": {
          "base_uri": "https://localhost:8080/"
        },
        "id": "GMdrEh2kKfcT",
        "outputId": "6725d718-75ee-432d-e47f-dfa684c33ad4"
      },
      "execution_count": 99,
      "outputs": [
        {
          "output_type": "stream",
          "name": "stdout",
          "text": [
            "(3992, 5) (3992, 1) (998, 5) (998, 1)\n"
          ]
        }
      ]
    },
    {
      "cell_type": "markdown",
      "source": [
        "## Thetas"
      ],
      "metadata": {
        "id": "-KnyFXQyLQW6"
      }
    },
    {
      "cell_type": "code",
      "source": [
        "num_parameters = train_x.shape[1]+1\n",
        "theta = np.random.rand(num_parameters, 1)\n",
        "print(theta)"
      ],
      "metadata": {
        "colab": {
          "base_uri": "https://localhost:8080/"
        },
        "id": "qmfw_e97Km4q",
        "outputId": "a040fdb8-a405-4dfa-8c15-957a23465dc7"
      },
      "execution_count": 100,
      "outputs": [
        {
          "output_type": "stream",
          "name": "stdout",
          "text": [
            "[[0.03159903]\n",
            " [0.12033682]\n",
            " [0.87996077]\n",
            " [0.31372637]\n",
            " [0.78477141]\n",
            " [0.66878378]]\n"
          ]
        }
      ]
    },
    {
      "cell_type": "code",
      "source": [
        "cost_diff_threshold = 10e-15\n",
        "learning_rate = 0.2"
      ],
      "metadata": {
        "id": "ZD2g9CYNKupY"
      },
      "execution_count": 101,
      "outputs": []
    },
    {
      "cell_type": "code",
      "source": [
        "train_x_scaled, train_x_mean, train_x_std = standardize(train_x)\n",
        "train_y_scaled, train_y_mean, train_y_std = standardize(train_y)"
      ],
      "metadata": {
        "id": "BewhuqCsOfC4"
      },
      "execution_count": 102,
      "outputs": []
    },
    {
      "cell_type": "markdown",
      "source": [
        "## ploting cost vs iterations(Cost Based)"
      ],
      "metadata": {
        "id": "Ja71qiv5Nd2Y"
      }
    },
    {
      "cell_type": "code",
      "source": [
        "thetas_ct, costs_ct = gradient_descent_cost_threshold(train_x_scaled, train_y_scaled, theta, cost_diff_threshold, learning_rate)\n",
        "plot_cost_vs_iterations(train_x_scaled, train_y_scaled, thetas_ct, costs_ct, costs_ct[-1])"
      ],
      "metadata": {
        "colab": {
          "base_uri": "https://localhost:8080/",
          "height": 279
        },
        "id": "DXRoU0usO_zD",
        "outputId": "3a41fbd4-21cd-4553-fa56-685b12ba33b9"
      },
      "execution_count": 103,
      "outputs": [
        {
          "output_type": "display_data",
          "data": {
            "text/plain": [
              "<Figure size 432x288 with 1 Axes>"
            ],
            "image/png": "[encoded data removed]"
          },
          "metadata": {
            "needs_background": "light"
          }
        }
      ]
    },
    {
      "cell_type": "markdown",
      "source": [
        "## ploting costs vs iterations"
      ],
      "metadata": {
        "id": "RmIozv6vODMj"
      }
    },
    {
      "cell_type": "code",
      "source": [
        "thetas_i, costs_i = gradient_descent_iterations(train_x_scaled, train_y_scaled, theta, 100, learning_rate)\n",
        "plot_cost_vs_iterations(train_x_scaled, train_y_scaled, thetas_i, costs_i, costs_i[-1])"
      ],
      "metadata": {
        "colab": {
          "base_uri": "https://localhost:8080/",
          "height": 279
        },
        "id": "ngHbcXLjPO8y",
        "outputId": "7e3dd79f-98ef-4475-ef6e-f749a06ee9c3"
      },
      "execution_count": 104,
      "outputs": [
        {
          "output_type": "display_data",
          "data": {
            "text/plain": [
              "<Figure size 432x288 with 1 Axes>"
            ],
            "image/png": "[encoded data removed]"
          },
          "metadata": {
            "needs_background": "light"
          }
        }
      ]
    },
    {
      "cell_type": "markdown",
      "source": [
        "## Test Data Preparation"
      ],
      "metadata": {
        "id": "wOkkRFHSOOUM"
      }
    },
    {
      "cell_type": "code",
      "source": [
        "test_x_scaled, _, __ =  standardize(test_x, train_x_mean, train_x_std)\n",
        "test_x_scaled = np.insert(test_x_scaled, 0, 1, axis = 1)"
      ],
      "metadata": {
        "id": "tl0jDMOHPQ8v"
      },
      "execution_count": 105,
      "outputs": []
    },
    {
      "cell_type": "code",
      "source": [
        "predicted_y_scaled = np.dot(test_x_scaled, thetas_ct[-1])\n",
        "predicted_y_scaled.shape"
      ],
      "metadata": {
        "colab": {
          "base_uri": "https://localhost:8080/"
        },
        "id": "jDcHnlc_PhuL",
        "outputId": "6204d3dd-beed-41ac-a4e4-8c6cef0be422"
      },
      "execution_count": 106,
      "outputs": [
        {
          "output_type": "execute_result",
          "data": {
            "text/plain": [
              "(998, 1)"
            ]
          },
          "metadata": {},
          "execution_count": 106
        }
      ]
    },
    {
      "cell_type": "code",
      "source": [
        "predicted_y = destandardize(predicted_y_scaled, train_y_mean, train_y_std)\n",
        "predicted_y.shape"
      ],
      "metadata": {
        "colab": {
          "base_uri": "https://localhost:8080/"
        },
        "id": "0Gx_UvzRbY86",
        "outputId": "396d0aa0-ac20-482c-fc26-f7ce5b5e3dcf"
      },
      "execution_count": 107,
      "outputs": [
        {
          "output_type": "execute_result",
          "data": {
            "text/plain": [
              "(998, 1)"
            ]
          },
          "metadata": {},
          "execution_count": 107
        }
      ]
    },
    {
      "cell_type": "markdown",
      "source": [
        "# Calculating Mean Square Error"
      ],
      "metadata": {
        "id": "DIrJ90f9OTpb"
      }
    },
    {
      "cell_type": "code",
      "source": [
        "mse_gradient_descent = mse(predicted_y, test_y)\n",
        "mse_gradient_descent"
      ],
      "metadata": {
        "colab": {
          "base_uri": "https://localhost:8080/"
        },
        "id": "ekpQHAmdcX3P",
        "outputId": "e70ed761-b66a-419d-d972-c6cc1859ca67"
      },
      "execution_count": 108,
      "outputs": [
        {
          "output_type": "execute_result",
          "data": {
            "text/plain": [
              "array(1.16455724e+10)"
            ]
          },
          "metadata": {},
          "execution_count": 108
        }
      ]
    },
    {
      "cell_type": "markdown",
      "source": [
        "# Ploting test_y vs predicted_y"
      ],
      "metadata": {
        "id": "78i5PKOGObv6"
      }
    },
    {
      "cell_type": "code",
      "source": [
        "plt.scatter(test_y, predicted_y, edgecolor='white')\n",
        "plt.plot([0,2.3e6], [0,2.3e6], 'r')\n",
        "plt.xlabel('Predicted label')\n",
        "plt.ylabel('Actual label')\n",
        "plt.show()"
      ],
      "metadata": {
        "colab": {
          "base_uri": "https://localhost:8080/",
          "height": 290
        },
        "id": "9VkFszhzc7d2",
        "outputId": "51a3eb84-9365-4187-fb6a-d292387d94e6"
      },
      "execution_count": 109,
      "outputs": [
        {
          "output_type": "display_data",
          "data": {
            "text/plain": [
              "<Figure size 432x288 with 1 Axes>"
            ],
            "image/png": "[encoded data removed]"
          },
          "metadata": {
            "needs_background": "light"
          }
        }
      ]
    },
    {
      "cell_type": "code",
      "source": [],
      "metadata": {
        "id": "fP5wOWfVLr5w"
      },
      "execution_count": null,
      "outputs": []
    }
  ]
}