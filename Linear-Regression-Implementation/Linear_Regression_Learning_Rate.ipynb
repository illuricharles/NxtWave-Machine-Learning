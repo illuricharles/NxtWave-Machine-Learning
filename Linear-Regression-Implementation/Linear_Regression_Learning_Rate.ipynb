{
  "nbformat": 4,
  "nbformat_minor": 0,
  "metadata": {
    "colab": {
      "name": "Linear_Regression_Learning_Rate",
      "provenance": [],
      "toc_visible": true
    },
    "kernelspec": {
      "name": "python3",
      "display_name": "Python 3"
    },
    "language_info": {
      "name": "python"
    }
  },
  "cells": [
    {
      "cell_type": "markdown",
      "source": [
        "# Import Required Packages"
      ],
      "metadata": {
        "id": "R6eIZVIfzgYQ"
      }
    },
    {
      "cell_type": "code",
      "execution_count": 1,
      "metadata": {
        "id": "XiOuF9bPzLeH"
      },
      "outputs": [],
      "source": [
        "import numpy as np\n",
        "import matplotlib.pyplot as plt"
      ]
    },
    {
      "cell_type": "markdown",
      "source": [
        "# Preparing Data"
      ],
      "metadata": {
        "id": "HOPuUZl3zoaW"
      }
    },
    {
      "cell_type": "code",
      "source": [
        "from sklearn.datasets import make_regression\n",
        "\n",
        "data_X, data_Y = make_regression(n_samples=150, n_features=1, random_state=1, noise=25, bias=50)\n",
        "plt.scatter(data_X,data_Y,s=6)\n",
        "plt.xlabel('X')\n",
        "plt.ylabel('Y')\n",
        "plt.savefig('Datapoints.png')\n",
        "plt.show()"
      ],
      "metadata": {
        "colab": {
          "base_uri": "https://localhost:8080/",
          "height": 279
        },
        "id": "d_A9dv0qztg1",
        "outputId": "2049680c-f526-4135-ff9b-98a7f4e24a37"
      },
      "execution_count": 13,
      "outputs": [
        {
          "output_type": "display_data",
          "data": {
            "text/plain": [
              "<Figure size 432x288 with 1 Axes>"
            ],
            "image/png": "[encoded data removed]"
          },
          "metadata": {
            "needs_background": "light"
          }
        }
      ]
    },
    {
      "cell_type": "markdown",
      "source": [
        "#Linear Regression Algorithm"
      ],
      "metadata": {
        "id": "ALbYXjHG0Glu"
      }
    },
    {
      "cell_type": "markdown",
      "source": [
        "## Compute Cost Function"
      ],
      "metadata": {
        "id": "iXYry5Ni08gY"
      }
    },
    {
      "cell_type": "code",
      "source": [
        "def compute_cost_function(X, Y, theta):\n",
        "  X = np.insert(X, 0, 1, axis = 1)\n",
        "  H = np.dot(X, theta)\n",
        "  difference = H - Y\n",
        "  m = len(X)\n",
        "  J = (1/(2*m)) * (np.dot(difference.T, difference))\n",
        "  return np.squeeze(J)"
      ],
      "metadata": {
        "id": "2uiHrLVaz2T-"
      },
      "execution_count": 3,
      "outputs": []
    },
    {
      "cell_type": "markdown",
      "source": [
        "## Gradient Descent"
      ],
      "metadata": {
        "id": "L65XRWaz0u46"
      }
    },
    {
      "cell_type": "code",
      "source": [
        "def gradient_descent_cost_function(X, Y, theta):\n",
        "  X = np.insert(X,0, 1, axis = 1)\n",
        "  H = np.dot(X, theta)\n",
        "  difference = H - Y\n",
        "  m = len(X)\n",
        "  d_theta = (1/m) * np.dot(X.T, difference)\n",
        "  return d_theta\n",
        "\n",
        "\n",
        "def gradient_descent(X,Y,theta,iterations, learning_rate):\n",
        "  thetas = [theta]\n",
        "  costs = [compute_cost_function(X, Y, theta)]\n",
        "  for i in range(iterations):\n",
        "    d_theta = gradient_descent_cost_function(X, Y, theta)\n",
        "    theta = theta - (learning_rate * d_theta)\n",
        "    cost = compute_cost_function(X, Y, theta)\n",
        "    costs.append(cost)\n",
        "    thetas.append(theta)\n",
        "  return costs, thetas"
      ],
      "metadata": {
        "id": "pNHX8Ote0qZK"
      },
      "execution_count": 4,
      "outputs": []
    },
    {
      "cell_type": "markdown",
      "source": [
        "# Applying Linear Regression"
      ],
      "metadata": {
        "id": "9e9ZBvS53ceb"
      }
    },
    {
      "cell_type": "markdown",
      "source": [
        "## Assigning Random theta values"
      ],
      "metadata": {
        "id": "J80tmrRo5AO7"
      }
    },
    {
      "cell_type": "code",
      "source": [
        "theta = np.array([[100],\n",
        "                  [290]])"
      ],
      "metadata": {
        "id": "5Ig0IYys3ZwM"
      },
      "execution_count": 14,
      "outputs": []
    },
    {
      "cell_type": "code",
      "source": [
        "data_Y = data_Y.reshape(-1,1)\n",
        "\n",
        "data_X.shape, data_Y.shape, theta.shape"
      ],
      "metadata": {
        "colab": {
          "base_uri": "https://localhost:8080/"
        },
        "id": "A_f6Gj593mG1",
        "outputId": "b03c3330-68d3-499e-cc83-edcd4df828fb"
      },
      "execution_count": 15,
      "outputs": [
        {
          "output_type": "execute_result",
          "data": {
            "text/plain": [
              "((150, 1), (150, 1), (2, 1))"
            ]
          },
          "metadata": {},
          "execution_count": 15
        }
      ]
    },
    {
      "cell_type": "markdown",
      "source": [
        "## Target function theta values\n",
        "\n",
        "<p> we use this target function theta values to compare the cost with theta values that we get from gradient descent function</p>"
      ],
      "metadata": {
        "id": "f8tDypyb5QX0"
      }
    },
    {
      "cell_type": "code",
      "source": [
        "target_func_theta = np.array([[52.39847879],\n",
        "                              [36.23350745]])"
      ],
      "metadata": {
        "id": "B1bYcoqz3puf"
      },
      "execution_count": 16,
      "outputs": []
    },
    {
      "cell_type": "markdown",
      "source": [
        "## Learing rate is low\n",
        "<p> when learning rate is low it takes more time and more number of iterations to reach the optimal value</p"
      ],
      "metadata": {
        "id": "XQxJt6iQ6BWV"
      }
    },
    {
      "cell_type": "code",
      "source": [
        "iterations_1 = 300\n",
        "learning_rate_1 = 0.03\n",
        "\n",
        "costs_1, thetas_1 = gradient_descent(data_X, data_Y, theta, iterations_1, learning_rate_1)\n",
        "target_func_cost = compute_cost_function(data_X, data_Y, target_func_theta)"
      ],
      "metadata": {
        "id": "zg4X-DU73sSI"
      },
      "execution_count": 25,
      "outputs": []
    },
    {
      "cell_type": "code",
      "source": [
        "costs_1[-1]\n",
        "print(f'The cost value that we obtain: {costs_1[-1]}')\n",
        "print(f'The target function cost value is: {target_func_cost}')"
      ],
      "metadata": {
        "colab": {
          "base_uri": "https://localhost:8080/"
        },
        "id": "WCfe0YJ-3uwn",
        "outputId": "b4c0023e-32a4-4d42-bb32-bd0c5a90b4a7"
      },
      "execution_count": 26,
      "outputs": [
        {
          "output_type": "stream",
          "name": "stdout",
          "text": [
            "The cost value that we obtain: 282.34661230927384\n",
            "The target function cost value is: 282.32701216026805\n"
          ]
        }
      ]
    },
    {
      "cell_type": "markdown",
      "source": [
        "## Learning Rate is low"
      ],
      "metadata": {
        "id": "1fRdUKR771wV"
      }
    },
    {
      "cell_type": "code",
      "source": [
        "iterations_2 = 80\n",
        "learning_rate_2 = 0.1\n",
        "\n",
        "costs_2, thetas_2 = gradient_descent(data_X, data_Y, theta, iterations_2, learning_rate_2)"
      ],
      "metadata": {
        "id": "GHtTwmzA4Fua"
      },
      "execution_count": 30,
      "outputs": []
    },
    {
      "cell_type": "code",
      "source": [
        "print(f'The cost value that we obtain is : {costs_2[-1]}')\n",
        "print(f'The targe funtion cost value is : {target_func_cost}')"
      ],
      "metadata": {
        "colab": {
          "base_uri": "https://localhost:8080/"
        },
        "id": "fjNnTGtT4vwr",
        "outputId": "abc95413-e680-42fd-d890-4b4662dded93"
      },
      "execution_count": 35,
      "outputs": [
        {
          "output_type": "stream",
          "name": "stdout",
          "text": [
            "The cost value that we obtain is : 282.39163336256075\n",
            "The targe funtion cost value is : 282.32701216026805\n"
          ]
        }
      ]
    },
    {
      "cell_type": "markdown",
      "source": [
        "## Learning Rate is Optimal"
      ],
      "metadata": {
        "id": "Bia0Fe5G78Os"
      }
    },
    {
      "cell_type": "code",
      "source": [
        "iterations_3 = 50\n",
        "learning_rate_3 = 1.2\n",
        "\n",
        "costs_3, thetas_3  = gradient_descent(data_X, data_Y, theta, iterations_3, learning_rate_3)"
      ],
      "metadata": {
        "id": "zZpW8lRO4lv_"
      },
      "execution_count": 32,
      "outputs": []
    },
    {
      "cell_type": "code",
      "source": [
        "print(f'The cost value that we obtain is : {costs_3[-1]}')\n",
        "print(f'The targe funtion cost value is : {target_func_cost}')"
      ],
      "metadata": {
        "colab": {
          "base_uri": "https://localhost:8080/"
        },
        "id": "_kF_kxBX8HSg",
        "outputId": "268cc6c6-5492-4ad5-b522-a35a60034452"
      },
      "execution_count": 34,
      "outputs": [
        {
          "output_type": "stream",
          "name": "stdout",
          "text": [
            "The cost value that we obtain is : 282.32701216026805\n",
            "The targe funtion cost value is : 282.32701216026805\n"
          ]
        }
      ]
    },
    {
      "cell_type": "markdown",
      "source": [
        "# Diverging Case"
      ],
      "metadata": {
        "id": "adPI1NGY8k2I"
      }
    },
    {
      "cell_type": "markdown",
      "source": [
        "## Learning Rate is high"
      ],
      "metadata": {
        "id": "q-3OY7DA8oBQ"
      }
    },
    {
      "cell_type": "code",
      "source": [
        "iterations_4 = 10\n",
        "learning_rate_4 = 2.1\n",
        "\n",
        "costs_4, thetas_4 = gradient_descent(data_X, data_Y, theta, iterations_4, learning_rate_4)"
      ],
      "metadata": {
        "id": "B55yLLPY8JJF"
      },
      "execution_count": 37,
      "outputs": []
    },
    {
      "cell_type": "code",
      "source": [
        "print(f'The cost value that we obtain is : {costs_4[-1]}')\n",
        "print(f'The targe funtion cost value is : {target_func_cost}')"
      ],
      "metadata": {
        "colab": {
          "base_uri": "https://localhost:8080/"
        },
        "id": "9QZjep-Z8tXO",
        "outputId": "b4695952-02b6-4e7f-bdbd-1000c6c64d51"
      },
      "execution_count": 38,
      "outputs": [
        {
          "output_type": "stream",
          "name": "stdout",
          "text": [
            "The cost value that we obtain is : 96264.43713851497\n",
            "The targe funtion cost value is : 282.32701216026805\n"
          ]
        }
      ]
    },
    {
      "cell_type": "code",
      "source": [],
      "metadata": {
        "id": "-luq76WT80BC"
      },
      "execution_count": null,
      "outputs": []
    }
  ]
}