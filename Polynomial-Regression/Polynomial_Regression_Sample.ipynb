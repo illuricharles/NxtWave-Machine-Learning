{
  "nbformat": 4,
  "nbformat_minor": 0,
  "metadata": {
    "colab": {
      "name": "Polynomial Regression - Sample",
      "provenance": [],
      "toc_visible": true
    },
    "kernelspec": {
      "name": "python3",
      "display_name": "Python 3"
    },
    "language_info": {
      "name": "python"
    }
  },
  "cells": [
    {
      "cell_type": "markdown",
      "source": [
        "# Importing Packages"
      ],
      "metadata": {
        "id": "cltiDSnNw2Hw"
      }
    },
    {
      "cell_type": "code",
      "execution_count": 112,
      "metadata": {
        "id": "8jsSn5GgCwXq"
      },
      "outputs": [],
      "source": [
        "import numpy as np\n",
        "import matplotlib.pyplot as plt"
      ]
    },
    {
      "cell_type": "markdown",
      "source": [
        "# DataSet"
      ],
      "metadata": {
        "id": "UQVeyACwGJ29"
      }
    },
    {
      "cell_type": "code",
      "source": [
        "X = np.linspace(0,10, 40)\n",
        "Y_points = np.array([42.11114179981501, 32.116371029170224, 23.60838077838932, 21.71040663484652, 23.06138236340962, 40.35877406459923, 40.33403025230602, 25.717941800505223, 23.636208742887373, 22.28968297460542, 24.25029063632621, 30.22370103123695, 19.20981987344005, 22.752067420791448, 21.561381643821495, 21.768608306841813, 18.319691246119433, 25.481434972684376, 24.469571368984624, 33.978633488504954, 23.563963995773335, 35.8384691818414, 24.61790419024955, 21.82458699147527, 34.976333852942126, 34.601951442445696, 61.10673256940445, 57.46882897155589, 59.65955535914441, 62.42850874044409, 57.56405451602623, 61.05370856505004, 60.599782998520276, 59.397835525326734, 62.92098309449633, 63.899825431019366, 61.9930489502552, 62.43999285461545, 63.02254256377229, 61.48710499547727])"
      ],
      "metadata": {
        "id": "x-KgGk3aGHN1"
      },
      "execution_count": 113,
      "outputs": []
    },
    {
      "cell_type": "code",
      "source": [
        "plt.scatter(X, Y_points)\n",
        "plt.xlabel('X Points')\n",
        "plt.ylabel(' Y Points')\n",
        "plt.show()"
      ],
      "metadata": {
        "colab": {
          "base_uri": "https://localhost:8080/",
          "height": 279
        },
        "id": "yw3YzYH-GJOI",
        "outputId": "107ec107-0cd5-416c-aa82-39704a6ef450"
      },
      "execution_count": 114,
      "outputs": [
        {
          "output_type": "display_data",
          "data": {
            "text/plain": [
              "<Figure size 432x288 with 1 Axes>"
            ],
            "image/png": "[encoded data removed]"
          },
          "metadata": {
            "needs_background": "light"
          }
        }
      ]
    },
    {
      "cell_type": "markdown",
      "source": [
        "# Cost Function"
      ],
      "metadata": {
        "id": "X01Xbyf1Gza6"
      }
    },
    {
      "cell_type": "code",
      "source": [
        "def compute_cost(X, Y, theta):\n",
        "  H = np.dot(X, theta)\n",
        "  difference = H - Y\n",
        "  m = len(X)\n",
        "  J = (1/(2*m))*np.dot(difference.T, difference)\n",
        "  return np.squeeze(J)"
      ],
      "metadata": {
        "id": "vQjEpnDQGaLZ"
      },
      "execution_count": 115,
      "outputs": []
    },
    {
      "cell_type": "markdown",
      "source": [
        "# Gradient Descent Function"
      ],
      "metadata": {
        "id": "jFiwu7cogymO"
      }
    },
    {
      "cell_type": "code",
      "source": [
        "def gradient_of_cost_function(X, Y, theta):\n",
        "  H = np.dot(X, theta)\n",
        "  difference =  H - Y\n",
        "  m = len(X)\n",
        "  d_theta = (1/m) * (np.dot(X.T,difference))\n",
        "  return d_theta\n",
        "\n",
        "def gradient_descent(X, Y, theta, cost_diff_threshold, learning_rate):\n",
        "  # To store the costs and theta values for each iteration\n",
        "  thetas = [theta]\n",
        "  costs = [compute_cost(X, Y, theta)]\n",
        "\n",
        "  cost_diff = cost_diff_threshold + 1\n",
        "  i = 0\n",
        "\n",
        "  while(abs(cost_diff) > cost_diff_threshold):\n",
        "      d_theta = gradient_of_cost_function(X, Y, theta)\n",
        "      theta = theta - (learning_rate * d_theta)\n",
        "      costs.append(compute_cost(X, Y, theta))\n",
        "      thetas.append(theta)\n",
        "      cost_diff = costs[i+1] - costs[i]\n",
        "      if(cost_diff > 0):\n",
        "          print(\"Diverging at iter:\",i)\n",
        "          break\n",
        "      i+=1\n",
        "          \n",
        "  return thetas, costs"
      ],
      "metadata": {
        "id": "N8aT0Ib9gfz6"
      },
      "execution_count": 116,
      "outputs": []
    },
    {
      "cell_type": "markdown",
      "source": [
        "# Mean Square Error"
      ],
      "metadata": {
        "id": "DDYYM_mugoSu"
      }
    },
    {
      "cell_type": "code",
      "source": [
        "def MSE(predicted_Y, actual_Y):\n",
        "    difference = actual_Y - predicted_Y\n",
        "    m = len(predicted_Y)\n",
        "    mse = (1/m)*np.dot(difference.T, difference)\n",
        "    return np.squeeze(mse)"
      ],
      "metadata": {
        "id": "_ZO99T21giKP"
      },
      "execution_count": 117,
      "outputs": []
    },
    {
      "cell_type": "markdown",
      "source": [
        "# Standardize"
      ],
      "metadata": {
        "id": "6Ja2BXdMgrdg"
      }
    },
    {
      "cell_type": "code",
      "source": [
        "def standardize(array, array_mean=None, array_std=None):\n",
        "  array_mean = np.mean(array, axis = 0) if (array_mean is None) else array_mean.squeeze()\n",
        "  array_std = np.std(array, axis = 0) if (array_std is None) else array_std.squeeze()\n",
        "\n",
        "  standardized_array = (array - array_mean)/ array_std\n",
        "  return standardized_array, array_mean, array_std\n",
        "\n",
        "\n",
        "def destandardize(array, array_mean, array_std):\n",
        "    return (array * array_std) + array_mean"
      ],
      "metadata": {
        "id": "jBHnUfolgki3"
      },
      "execution_count": 118,
      "outputs": []
    },
    {
      "cell_type": "markdown",
      "source": [
        "# Evaluate"
      ],
      "metadata": {
        "id": "IYZV_Clcoqdf"
      }
    },
    {
      "cell_type": "code",
      "source": [
        "def evaluate(data_X, data_Y, theta):\n",
        "    predicted_data_Y = np.dot(data_X, theta)\n",
        "    mse = MSE(predicted_data_Y, data_Y)\n",
        "    return mse, predicted_data_Y"
      ],
      "metadata": {
        "id": "InpRi54uos_p"
      },
      "execution_count": 119,
      "outputs": []
    },
    {
      "cell_type": "markdown",
      "source": [
        "# Plot Cost vs Iteration"
      ],
      "metadata": {
        "id": "Wijy281Fg96z"
      }
    },
    {
      "cell_type": "code",
      "source": [
        "def plot_cost_vs_iterations(x, y, theta, costs):\n",
        "    fig = plt.figure()\n",
        "    plt.plot(range(len(costs)), costs, c='r', alpha=0.8)\n",
        "    hypothesis_cost = compute_cost(x, y, theta[-1])\n",
        "    plt.annotate('cost : {}'.format(hypothesis_cost), xy = (0.2, 0.6), \n",
        "                    xycoords='axes fraction',color='#3c78d8ff', fontsize=12)\n",
        "    plt.xlabel('iterations')\n",
        "    plt.ylabel('cost')\n",
        "    plt.show()"
      ],
      "metadata": {
        "id": "7hXsuyVRg5oW"
      },
      "execution_count": 120,
      "outputs": []
    },
    {
      "cell_type": "markdown",
      "source": [
        "# plot learned curve"
      ],
      "metadata": {
        "id": "yqedjdHwhW2S"
      }
    },
    {
      "cell_type": "code",
      "source": [
        "def visualize_learned_curve(X_values, predicted_Y_values):\n",
        "    fig = plt.figure(dpi=100)\n",
        "    plt.scatter(X, Y_points, c='royalblue',s=8) #plot all the points\n",
        "\n",
        "    # For matplotlib to plot in order, need to sort the X-axis values. Hence, sorting the X values and corresponding Y values\n",
        "    sorted_indices_X = np.argsort(X_values) \n",
        "    sorted_X = X_values[sorted_indices_X] \n",
        "    sorted_pred_Y = predicted_Y_values[sorted_indices_X] \n",
        "\n",
        "    plt.plot(sorted_X, sorted_pred_Y, c='#ff9800', linewidth=4)  # plot the curve learned\n",
        "\n",
        "    plt.xlabel('X')\n",
        "    plt.ylabel('Y')\n",
        "\n",
        "    plt.show()"
      ],
      "metadata": {
        "id": "FkiR9w-7g8yf"
      },
      "execution_count": 121,
      "outputs": []
    },
    {
      "cell_type": "markdown",
      "source": [
        "# Prepare Data"
      ],
      "metadata": {
        "id": "oYu0_qfNigqg"
      }
    },
    {
      "cell_type": "code",
      "source": [
        "def prepare_data(x, y, per_index, train_count):\n",
        "  shuffle_x = x[per_index]\n",
        "  shuffle_y = y[per_index]\n",
        "\n",
        "  train_x = shuffle_x[:train_count:]\n",
        "  train_y = shuffle_y[:train_count:]\n",
        "\n",
        "  val_x = shuffle_x[train_count:,:]\n",
        "  val_y = shuffle_y[train_count:,:]\n",
        "\n",
        "  return train_x, train_y, val_x, val_y"
      ],
      "metadata": {
        "id": "NLJVhQ_3hnbC"
      },
      "execution_count": 122,
      "outputs": []
    },
    {
      "cell_type": "markdown",
      "source": [
        "# Prepare X for given degree"
      ],
      "metadata": {
        "id": "wYuj2o_iiihy"
      }
    },
    {
      "cell_type": "code",
      "source": [
        "def prepare_x(x, degree):\n",
        "  x=x.reshape(-1,1)\n",
        "  for i in range(2, degree+1):\n",
        "    x_pow_values = np.power(x[:,0], i)\n",
        "    x=np.append(x, x_pow_values.reshape(-1,1), axis=1)\n",
        "  return x"
      ],
      "metadata": {
        "id": "eucj84E5ineJ"
      },
      "execution_count": 123,
      "outputs": []
    },
    {
      "cell_type": "markdown",
      "source": [
        "# Prepare Theta"
      ],
      "metadata": {
        "id": "GLEEoQWLk6ue"
      }
    },
    {
      "cell_type": "code",
      "source": [
        "def get_initial_theta(degree):\n",
        "    num_parameters = degree + 1\n",
        "    theta = np.random.rand(num_parameters,1)\n",
        "    return theta"
      ],
      "metadata": {
        "id": "LrjLJWulkrp2"
      },
      "execution_count": 124,
      "outputs": []
    },
    {
      "cell_type": "markdown",
      "source": [
        "# Apply Gradient Descent"
      ],
      "metadata": {
        "id": "nboVNWQihkDI"
      }
    },
    {
      "cell_type": "code",
      "source": [
        "np.random.seed(11235808)\n",
        "data_count = X.shape[0]\n",
        "permuted_indices = np.random.permutation(data_count)\n",
        "\n",
        "train_ratio = 0.75\n",
        "train_count = np.int(train_ratio * data_count)"
      ],
      "metadata": {
        "colab": {
          "base_uri": "https://localhost:8080/"
        },
        "id": "My1hOrZ0ha7l",
        "outputId": "666e48fc-96c7-4f04-d090-0125fdf2c2f9"
      },
      "execution_count": 125,
      "outputs": [
        {
          "output_type": "stream",
          "name": "stderr",
          "text": [
            "/usr/local/lib/python3.7/dist-packages/ipykernel_launcher.py:6: DeprecationWarning: `np.int` is a deprecated alias for the builtin `int`. To silence this warning, use `int` by itself. Doing this will not modify any behavior and is safe. When replacing `np.int`, you may wish to use e.g. `np.int64` or `np.int32` to specify the precision. If you wish to review your current use, check the release note link for additional information.\n",
            "Deprecated in NumPy 1.20; for more details and guidance: https://numpy.org/devdocs/release/1.20.0-notes.html#deprecations\n",
            "  \n"
          ]
        }
      ]
    },
    {
      "cell_type": "markdown",
      "source": [
        "## Theta values for given degree\n",
        "<p> Change degree to get different curve"
      ],
      "metadata": {
        "id": "3VRJQXaVwWy_"
      }
    },
    {
      "cell_type": "code",
      "source": [
        "degree = 30\n",
        "x_degree = prepare_x(X, degree)\n",
        "y_col = Y_points.reshape(-1,1)\n",
        "train_x, train_y, val_x, val_y = prepare_data(x_degree, y_col, permuted_indices, train_count)\n",
        "theta = get_initial_theta(degree)\n"
      ],
      "metadata": {
        "id": "ci35CBR8jH1I"
      },
      "execution_count": 126,
      "outputs": []
    },
    {
      "cell_type": "markdown",
      "source": [
        "# Train the X values"
      ],
      "metadata": {
        "id": "UUvcsAzWljZJ"
      }
    },
    {
      "cell_type": "code",
      "source": [
        "cost_diff_threshold = 10e-5\n",
        "learning_rate = 0.1 if (degree < 20) else 0.01\n",
        "train_x_scaled, train_x_mean, train_x_std = standardize(train_x)\n",
        "train_x_scaled = np.insert(train_x_scaled, 0, 1, axis = 1)\n",
        "thetas_gd, costs = gradient_descent(train_x_scaled, train_y, theta, cost_diff_threshold, learning_rate)"
      ],
      "metadata": {
        "id": "lm2q8yd8lBxb"
      },
      "execution_count": 127,
      "outputs": []
    },
    {
      "cell_type": "markdown",
      "source": [
        "# plot train_x cost vs iteration"
      ],
      "metadata": {
        "id": "TlihZeAovr_e"
      }
    },
    {
      "cell_type": "code",
      "source": [
        "plot_cost_vs_iterations(train_x_scaled, train_y, thetas_gd, costs)\n"
      ],
      "metadata": {
        "colab": {
          "base_uri": "https://localhost:8080/",
          "height": 279
        },
        "id": "84Ul_SNimoBO",
        "outputId": "c51a7a4d-3a0f-42aa-9473-2cd94662511e"
      },
      "execution_count": 128,
      "outputs": [
        {
          "output_type": "display_data",
          "data": {
            "text/plain": [
              "<Figure size 432x288 with 1 Axes>"
            ],
            "image/png": "[encoded data removed]"
          },
          "metadata": {
            "needs_background": "light"
          }
        }
      ]
    },
    {
      "cell_type": "markdown",
      "source": [
        "# Evaluate validataion dataset"
      ],
      "metadata": {
        "id": "a82DsMVZv2ew"
      }
    },
    {
      "cell_type": "code",
      "source": [
        "val_x_scaled, _, __ = standardize(val_x, train_x_mean, train_x_std)\n",
        "val_x_scaled = np.insert(val_x_scaled, 0, 1, axis=1)\n",
        "mse, predicted_val_Y = evaluate(val_x_scaled, val_y, thetas_gd[-1])\n",
        "print(mse)"
      ],
      "metadata": {
        "colab": {
          "base_uri": "https://localhost:8080/"
        },
        "id": "V-yEghSFm-wG",
        "outputId": "3382c572-acb2-4914-c2a0-cc50cb93387e"
      },
      "execution_count": 129,
      "outputs": [
        {
          "output_type": "stream",
          "name": "stdout",
          "text": [
            "29.487615708664634\n"
          ]
        }
      ]
    },
    {
      "cell_type": "code",
      "source": [
        "_, predicted_y_points = evaluate(train_x_scaled, train_y, thetas_gd[-1])"
      ],
      "metadata": {
        "id": "iGNwxRVopErm"
      },
      "execution_count": 130,
      "outputs": []
    },
    {
      "cell_type": "markdown",
      "source": [
        "# plot x points vs predictd y"
      ],
      "metadata": {
        "id": "2S8GUXNiwHqs"
      }
    },
    {
      "cell_type": "code",
      "source": [
        "x_all_points = np.hstack((train_x[:,0].ravel(), val_x[:0].ravel()))\n",
        "predicted_Y = np.hstack((predicted_y_points.ravel(), predicted_val_Y.ravel()))"
      ],
      "metadata": {
        "id": "b9_oUuPGsqBS"
      },
      "execution_count": 131,
      "outputs": []
    },
    {
      "cell_type": "code",
      "source": [
        "visualize_learned_curve(x_all_points, predicted_Y)"
      ],
      "metadata": {
        "colab": {
          "base_uri": "https://localhost:8080/",
          "height": 382
        },
        "id": "wXSvM-nvtThd",
        "outputId": "5576237d-69ff-4e02-bd34-ccdc3f312bf6"
      },
      "execution_count": 132,
      "outputs": [
        {
          "output_type": "display_data",
          "data": {
            "text/plain": [
              "<Figure size 600x400 with 1 Axes>"
            ],
            "image/png": "[encoded data removed]"
          },
          "metadata": {
            "needs_background": "light"
          }
        }
      ]
    },
    {
      "cell_type": "code",
      "source": [],
      "metadata": {
        "id": "Iu_BwKa9u_y-"
      },
      "execution_count": 110,
      "outputs": []
    }
  ]
}